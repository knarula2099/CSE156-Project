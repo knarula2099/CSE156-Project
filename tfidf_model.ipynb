{
  "cells": [
    {
      "cell_type": "code",
      "execution_count": 17,
      "metadata": {
        "id": "DS195XeLXFFQ"
      },
      "outputs": [],
      "source": [
        "from sklearn.feature_extraction.text import TfidfVectorizer\n",
        "from sklearn.metrics.pairwise import cosine_similarity\n",
        "import re\n",
        "import string\n",
        "import nltk\n",
        "from nltk.tokenize import wordpunct_tokenize\n",
        "from nltk.corpus import stopwords\n",
        "from nltk.stem import WordNetLemmatizer\n",
        "from sentence_transformers import SentenceTransformer"
      ]
    },
    {
      "cell_type": "code",
      "execution_count": 18,
      "metadata": {
        "id": "ZfcJIevQXJBB"
      },
      "outputs": [],
      "source": [
        "import pandas as pd\n",
        "import numpy as np\n",
        "import faiss\n",
        "import spacy"
      ]
    },
    {
      "cell_type": "code",
      "execution_count": 19,
      "metadata": {
        "id": "xgBY-2JKXRB5"
      },
      "outputs": [],
      "source": [
        "combined_df = pd.read_csv('combined_df_processed (1).csv')"
      ]
    },
    {
      "cell_type": "code",
      "execution_count": 20,
      "metadata": {
        "id": "NFTo8OzaXnaJ"
      },
      "outputs": [],
      "source": [
        "combined_df['combined_text'] = combined_df['Processed_Title'] + \" \" + combined_df['Processed_Abstract']"
      ]
    },
    {
      "cell_type": "code",
      "execution_count": 21,
      "metadata": {
        "colab": {
          "base_uri": "https://localhost:8080/"
        },
        "id": "X5xc3BqvYWv4",
        "outputId": "fc679792-7110-4adf-d50d-2e36cd56f74e"
      },
      "outputs": [
        {
          "name": "stderr",
          "output_type": "stream",
          "text": [
            "[nltk_data] Downloading package stopwords to\n",
            "[nltk_data]     C:\\Users\\Satvi\\AppData\\Roaming\\nltk_data...\n",
            "[nltk_data]   Package stopwords is already up-to-date!\n",
            "[nltk_data] Downloading package wordnet to\n",
            "[nltk_data]     C:\\Users\\Satvi\\AppData\\Roaming\\nltk_data...\n",
            "[nltk_data]   Package wordnet is already up-to-date!\n",
            "[nltk_data] Downloading package omw-1.4 to\n",
            "[nltk_data]     C:\\Users\\Satvi\\AppData\\Roaming\\nltk_data...\n",
            "[nltk_data]   Package omw-1.4 is already up-to-date!\n"
          ]
        }
      ],
      "source": [
        "nltk.download('stopwords')\n",
        "nltk.download('wordnet')\n",
        "nltk.download('omw-1.4')\n",
        "\n",
        "# Define our text processing functions\n",
        "def clean_text(text):\n",
        "    if not isinstance(text, str):\n",
        "        return \"\"\n",
        "    text = text.lower()\n",
        "    text = re.sub(f\"[{re.escape(string.punctuation)}]\", \"\", text)\n",
        "    text = re.sub(r'\\s+', ' ', text)\n",
        "    return text.strip()\n",
        "\n",
        "def tokenize_text(text):\n",
        "    return wordpunct_tokenize(text)\n",
        "\n",
        "def remove_stopwords(tokens):\n",
        "    stop_words = set(stopwords.words('english'))\n",
        "    return [word for word in tokens if word not in stop_words]\n",
        "\n",
        "def lemmatize_tokens(tokens):\n",
        "    lemmatizer = WordNetLemmatizer()\n",
        "    return [lemmatizer.lemmatize(token) for token in tokens]\n",
        "\n",
        "def preprocess_text(text):\n",
        "    cleaned = clean_text(text)\n",
        "    tokens = tokenize_text(cleaned)\n",
        "    tokens = remove_stopwords(tokens)\n",
        "    lemmatized = lemmatize_tokens(tokens)\n",
        "    return ' '.join(lemmatized)"
      ]
    },
    {
      "cell_type": "code",
      "execution_count": 22,
      "metadata": {},
      "outputs": [],
      "source": [
        "vectorizer = TfidfVectorizer()\n",
        "tfidf_matrix = vectorizer.fit_transform(combined_df['combined_text']).toarray().astype(np.float32)"
      ]
    },
    {
      "cell_type": "code",
      "execution_count": 23,
      "metadata": {},
      "outputs": [
        {
          "name": "stdout",
          "output_type": "stream",
          "text": [
            "Generating BERT embeddings...\n"
          ]
        },
        {
          "name": "stderr",
          "output_type": "stream",
          "text": [
            "Batches: 100%|██████████| 160/160 [01:52<00:00,  1.42it/s]\n"
          ]
        }
      ],
      "source": [
        "model = SentenceTransformer('all-MiniLM-L6-v2')\n",
        "if 'bert_embeddings' not in combined_df.columns:\n",
        "    print(\"Generating BERT embeddings...\")\n",
        "    combined_df['bert_embeddings'] = model.encode(combined_df['combined_text'].tolist(), show_progress_bar=True).tolist()\n",
        "embeddings = np.stack(combined_df[\"bert_embeddings\"].values).astype(np.float32)\n",
        "faiss.normalize_L2(embeddings)\n",
        "d = embeddings.shape[1]\n",
        "index = faiss.IndexFlatL2(d)\n",
        "index.add(embeddings)"
      ]
    },
    {
      "cell_type": "code",
      "execution_count": 25,
      "metadata": {},
      "outputs": [
        {
          "name": "stdout",
          "output_type": "stream",
          "text": [
            "Generating spaCy embeddings...\n"
          ]
        }
      ],
      "source": [
        "spacyModel = spacy.load(\"en_core_web_md\")\n",
        "if 'spacy_embeddings' not in combined_df.columns:\n",
        "    print(\"Generating spaCy embeddings...\")\n",
        "    combined_df['spacy_embeddings'] = combined_df['combined_text'].apply(lambda text: spacyModel(text).vector.tolist())\n",
        "spacy_embeddings = np.stack(combined_df[\"spacy_embeddings\"].values).astype(np.float32)\n",
        "faiss.normalize_L2(spacy_embeddings)\n",
        "d_spacy = spacy_embeddings.shape[1]\n",
        "index_spacy = faiss.IndexFlatL2(d_spacy)\n",
        "index_spacy.add(spacy_embeddings)"
      ]
    },
    {
      "cell_type": "code",
      "execution_count": null,
      "metadata": {
        "colab": {
          "base_uri": "https://localhost:8080/"
        },
        "id": "WbfSppf5UMG8",
        "outputId": "627be868-ca9b-45de-acd9-dfdb9f955a7b"
      },
      "outputs": [],
      "source": [
        "## user input = query string, preprocess it, vectorize it, and return the top_n most similar articles.\n",
        "def search_articles(query, top_n=5):\n",
        "    query_processed = preprocess_text(query)\n",
        "    query_vector = vectorizer.transform([query_processed])\n",
        "\n",
        "    similarities = cosine_similarity(query_vector, tfidf_matrix).flatten()\n",
        "    top_indices = similarities.argsort()[::-1][:top_n]\n",
        "\n",
        "    return combined_df.iloc[top_indices]\n",
        "\n",
        "def search_tfidf(query, top_n=5):\n",
        "    query_processed = preprocess_text(query)\n",
        "    query_vector = vectorizer.transform([query_processed]).toarray().astype(np.float32)\n",
        "\n",
        "    index = faiss.IndexFlatL2(tfidf_matrix.shape[1])\n",
        "    faiss.normalize_L2(tfidf_matrix)  # Normalize for cosine similarity\n",
        "    index.add(tfidf_matrix)\n",
        "\n",
        "    faiss.normalize_L2(query_vector)\n",
        "    _, top_indices = index.search(query_vector, top_n)\n",
        "\n",
        "    return combined_df.iloc[top_indices[0]]\n",
        "\n",
        "def search_bert_cosine(query, top_n=5):\n",
        "    query_embedding = model.encode(query).reshape(1, -1)\n",
        "    similarities = cosine_similarity(query_embedding, embeddings).flatten()\n",
        "    top_indices = similarities.argsort()[::-1][:top_n]\n",
        "\n",
        "    return combined_df.iloc[top_indices]\n",
        "\n",
        "def search_bert_faiss(query, top_n=5):\n",
        "    query_embedding = model.encode([query])\n",
        "    faiss.normalize_L2(query_embedding)\n",
        "    _, top_indices = index.search(query_embedding, top_n)\n",
        "\n",
        "    return combined_df.iloc[top_indices[0]]\n",
        "\n",
        "def search_spacy_cosine(query, top_n=5):\n",
        "    query_embedding = spacyModel(query).vector.reshape(1, -1)\n",
        "    similarities = cosine_similarity(query_embedding, spacy_embeddings).flatten()\n",
        "    top_indices = similarities.argsort()[::-1][:top_n]\n",
        "    return combined_df.iloc[top_indices]\n",
        "\n",
        "def search_spacy_faiss(query, top_n=5):\n",
        "    query_embedding = spacyModel(query).vector.reshape(1, -1).astype(np.float32)\n",
        "    faiss.normalize_L2(query_embedding)\n",
        "    _, top_indices = index_spacy.search(query_embedding, top_n)\n",
        "    return combined_df.iloc[top_indices[0]]"
      ]
    },
    {
      "cell_type": "code",
      "execution_count": 27,
      "metadata": {},
      "outputs": [],
      "source": [
        "user_query = \"Rising global temperatures affecting ocean\""
      ]
    },
    {
      "cell_type": "code",
      "execution_count": 28,
      "metadata": {},
      "outputs": [
        {
          "name": "stdout",
          "output_type": "stream",
          "text": [
            "\n",
            "TF-IDF Results with Cosine Similarity:\n",
            "                                                  Title  \\\n",
            "2491  Coupling Oceanic Observation Systems to Study ...   \n",
            "2171  Data-driven Global Ocean Modeling for Seasonal...   \n",
            "2470  Forecasting the effect of heat stress index an...   \n",
            "2254  A dynamical geography of observed trends in th...   \n",
            "129   Towards Optimally Weighted Physics-Informed Ne...   \n",
            "\n",
            "                                               Abstract  \n",
            "2491  Understanding local currents in the North Atla...  \n",
            "2171  Accurate ocean dynamics modeling is crucial fo...  \n",
            "2470  In this paper, we estimate the effect of heat ...  \n",
            "2254  Revealing the ongoing changes in ocean dynamic...  \n",
            "129   The carbon pump of the world's ocean plays a v...  \n"
          ]
        }
      ],
      "source": [
        "#top 5 matching articles\n",
        "cosineResults = search_articles(user_query)\n",
        "print(\"\\nTF-IDF Results with Cosine Similarity:\")\n",
        "print(cosineResults[['Title', 'Abstract']])"
      ]
    },
    {
      "cell_type": "code",
      "execution_count": 29,
      "metadata": {},
      "outputs": [
        {
          "name": "stdout",
          "output_type": "stream",
          "text": [
            "\n",
            "TF-IDF Results with FAISS:\n",
            "                                                  Title  \\\n",
            "2491  Coupling Oceanic Observation Systems to Study ...   \n",
            "2171  Data-driven Global Ocean Modeling for Seasonal...   \n",
            "2470  Forecasting the effect of heat stress index an...   \n",
            "2254  A dynamical geography of observed trends in th...   \n",
            "129   Towards Optimally Weighted Physics-Informed Ne...   \n",
            "\n",
            "                                               Abstract  \n",
            "2491  Understanding local currents in the North Atla...  \n",
            "2171  Accurate ocean dynamics modeling is crucial fo...  \n",
            "2470  In this paper, we estimate the effect of heat ...  \n",
            "2254  Revealing the ongoing changes in ocean dynamic...  \n",
            "129   The carbon pump of the world's ocean plays a v...  \n"
          ]
        }
      ],
      "source": [
        "tfidf_results = search_tfidf(user_query)\n",
        "print(\"\\nTF-IDF Results with FAISS:\")\n",
        "print(tfidf_results[['Title', 'Abstract']])"
      ]
    },
    {
      "cell_type": "code",
      "execution_count": 30,
      "metadata": {},
      "outputs": [
        {
          "name": "stdout",
          "output_type": "stream",
          "text": [
            "\n",
            "BERT Results with Cosine Similarity:\n",
            "                                                  Title  \\\n",
            "2254  A dynamical geography of observed trends in th...   \n",
            "2544  Decadal attribution of historic temperature an...   \n",
            "192   Sea-level and summer season orbital insolation...   \n",
            "2491  Coupling Oceanic Observation Systems to Study ...   \n",
            "2382  Unraveling how winds and surface heat fluxes c...   \n",
            "\n",
            "                                               Abstract  \n",
            "2254  Revealing the ongoing changes in ocean dynamic...  \n",
            "2544  We present an alternative method of calculatin...  \n",
            "192   The sea-ice cover of the Arctic Ocean is an im...  \n",
            "2491  Understanding local currents in the North Atla...  \n",
            "2382  The North Atlantic Ocean circulation, fueled b...  \n"
          ]
        }
      ],
      "source": [
        "results = search_bert_cosine(user_query)\n",
        "print(\"\\nBERT Results with Cosine Similarity:\")\n",
        "print(results[['Title', 'Abstract']])"
      ]
    },
    {
      "cell_type": "code",
      "execution_count": 31,
      "metadata": {},
      "outputs": [
        {
          "name": "stdout",
          "output_type": "stream",
          "text": [
            "\n",
            "BERT Results with FAISS:\n",
            "                                                  Title  \\\n",
            "2254  A dynamical geography of observed trends in th...   \n",
            "2544  Decadal attribution of historic temperature an...   \n",
            "192   Sea-level and summer season orbital insolation...   \n",
            "2491  Coupling Oceanic Observation Systems to Study ...   \n",
            "2382  Unraveling how winds and surface heat fluxes c...   \n",
            "\n",
            "                                               Abstract  \n",
            "2254  Revealing the ongoing changes in ocean dynamic...  \n",
            "2544  We present an alternative method of calculatin...  \n",
            "192   The sea-ice cover of the Arctic Ocean is an im...  \n",
            "2491  Understanding local currents in the North Atla...  \n",
            "2382  The North Atlantic Ocean circulation, fueled b...  \n"
          ]
        }
      ],
      "source": [
        "bert_results = search_bert_faiss(user_query)\n",
        "print(\"\\nBERT Results with FAISS:\")\n",
        "print(bert_results[['Title', 'Abstract']])"
      ]
    },
    {
      "cell_type": "code",
      "execution_count": 32,
      "metadata": {},
      "outputs": [
        {
          "name": "stdout",
          "output_type": "stream",
          "text": [
            "\n",
            "spaCy Results with Cosine Similarity:\n",
            "                                                  Title  \\\n",
            "2116  Droughts in Germany -- Why global climate chan...   \n",
            "3498  Effects of Ozone Levels on Climate Through Ear...   \n",
            "2177  Carbon cycle instability for high-$\\mathrm{CO_...   \n",
            "46    Model estimates for contribution of natural an...   \n",
            "2119  Impacts of Climate Change-Induced Salinity Int...   \n",
            "\n",
            "                                               Abstract  \n",
            "2116  The warmer temperatures of global climate chan...  \n",
            "3498  Molecular oxygen in our atmosphere has increas...  \n",
            "2177  Implicit in the definition of the classical ci...  \n",
            "46    The contribution of anthropogenic and natural ...  \n",
            "2119  Changing temperature, precipitation regimes, a...  \n"
          ]
        }
      ],
      "source": [
        "print(\"\\nspaCy Results with Cosine Similarity:\")\n",
        "print(search_spacy_cosine(user_query)[['Title', 'Abstract']])"
      ]
    },
    {
      "cell_type": "code",
      "execution_count": 33,
      "metadata": {},
      "outputs": [
        {
          "name": "stdout",
          "output_type": "stream",
          "text": [
            "\n",
            "spaCy Results with FAISS:\n",
            "                                                  Title  \\\n",
            "2116  Droughts in Germany -- Why global climate chan...   \n",
            "3498  Effects of Ozone Levels on Climate Through Ear...   \n",
            "2177  Carbon cycle instability for high-$\\mathrm{CO_...   \n",
            "46    Model estimates for contribution of natural an...   \n",
            "2119  Impacts of Climate Change-Induced Salinity Int...   \n",
            "\n",
            "                                               Abstract  \n",
            "2116  The warmer temperatures of global climate chan...  \n",
            "3498  Molecular oxygen in our atmosphere has increas...  \n",
            "2177  Implicit in the definition of the classical ci...  \n",
            "46    The contribution of anthropogenic and natural ...  \n",
            "2119  Changing temperature, precipitation regimes, a...  \n"
          ]
        }
      ],
      "source": [
        "print(\"\\nspaCy Results with FAISS:\")\n",
        "print(search_spacy_faiss(user_query)[['Title', 'Abstract']])"
      ]
    }
  ],
  "metadata": {
    "colab": {
      "provenance": []
    },
    "kernelspec": {
      "display_name": "Python 3",
      "name": "python3"
    },
    "language_info": {
      "codemirror_mode": {
        "name": "ipython",
        "version": 3
      },
      "file_extension": ".py",
      "mimetype": "text/x-python",
      "name": "python",
      "nbconvert_exporter": "python",
      "pygments_lexer": "ipython3",
      "version": "3.11.9"
    }
  },
  "nbformat": 4,
  "nbformat_minor": 0
}
